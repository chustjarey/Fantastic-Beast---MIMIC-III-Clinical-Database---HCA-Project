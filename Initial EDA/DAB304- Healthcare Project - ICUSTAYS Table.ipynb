{
 "cells": [
  {
   "cell_type": "markdown",
   "metadata": {},
   "source": [
    "## Healthcare Project ##\n",
    "\n",
    "## MIMIC-III Clinical Database 1.4 ##\n",
    "\n",
    "## ICUSTAYS TABLE ##\n",
    "\n",
    "**Table Description:**\n",
    "\n",
    "-\trow_id: Unique row identifier.\n",
    "-\tsubject_id: Foreign key. Identifies the patient.\n",
    "-\thadm_id: Foreign key. Identifies the hospital stay.\n",
    "-\ticustay_id: Primary key. Identifies the ICU stay.\n",
    "-\tdbsource: Source database of the item.\n",
    "-\tfirst_careunit: First careunit associated with the ICU stay.\n",
    "-\tlast_careunit: Last careunit associated with the ICU stay.\n",
    "-\tfirst_wardid: Identifier for the first ward the patient was located in.\n",
    "-\tlast_wardid: Identifier for the last ward the patient is located in.\n",
    "-\tintime: Time of admission to the ICU.\n",
    "-\touttime: Time of discharge from the ICU.\n",
    "-\tlos: Length of stay in the ICU in fractional days.\n",
    "\n",
    "**Websites:**\n",
    "\n",
    "https://physionet.org/content/mimiciii/1.4/\n",
    "\n",
    "https://mimic.mit.edu/docs/iii/tables/\n",
    "\n",
    "https://mit-lcp.github.io/mimic-schema-spy/tables/prescriptions.html"
   ]
  },
  {
   "cell_type": "markdown",
   "metadata": {},
   "source": [
    "Libraries"
   ]
  },
  {
   "cell_type": "code",
   "execution_count": 1,
   "metadata": {},
   "outputs": [],
   "source": [
    "import pandas as pd\n",
    "import numpy as np\n",
    "import matplotlib.pyplot as plt\n",
    "import seaborn as sns"
   ]
  },
  {
   "cell_type": "markdown",
   "metadata": {},
   "source": [
    "Dataset"
   ]
  },
  {
   "cell_type": "code",
   "execution_count": 2,
   "metadata": {},
   "outputs": [],
   "source": [
    "icustays = pd.read_csv('ICUSTAYS.csv')"
   ]
  },
  {
   "cell_type": "code",
   "execution_count": 3,
   "metadata": {},
   "outputs": [
    {
     "data": {
      "text/html": [
       "<div>\n",
       "<style scoped>\n",
       "    .dataframe tbody tr th:only-of-type {\n",
       "        vertical-align: middle;\n",
       "    }\n",
       "\n",
       "    .dataframe tbody tr th {\n",
       "        vertical-align: top;\n",
       "    }\n",
       "\n",
       "    .dataframe thead th {\n",
       "        text-align: right;\n",
       "    }\n",
       "</style>\n",
       "<table border=\"1\" class=\"dataframe\">\n",
       "  <thead>\n",
       "    <tr style=\"text-align: right;\">\n",
       "      <th></th>\n",
       "      <th>ROW_ID</th>\n",
       "      <th>SUBJECT_ID</th>\n",
       "      <th>HADM_ID</th>\n",
       "      <th>ICUSTAY_ID</th>\n",
       "      <th>DBSOURCE</th>\n",
       "      <th>FIRST_CAREUNIT</th>\n",
       "      <th>LAST_CAREUNIT</th>\n",
       "      <th>FIRST_WARDID</th>\n",
       "      <th>LAST_WARDID</th>\n",
       "      <th>INTIME</th>\n",
       "      <th>OUTTIME</th>\n",
       "      <th>LOS</th>\n",
       "    </tr>\n",
       "  </thead>\n",
       "  <tbody>\n",
       "    <tr>\n",
       "      <th>0</th>\n",
       "      <td>365</td>\n",
       "      <td>268</td>\n",
       "      <td>110404</td>\n",
       "      <td>280836</td>\n",
       "      <td>carevue</td>\n",
       "      <td>MICU</td>\n",
       "      <td>MICU</td>\n",
       "      <td>52</td>\n",
       "      <td>52</td>\n",
       "      <td>2198-02-14 23:27:38</td>\n",
       "      <td>2198-02-18 05:26:11</td>\n",
       "      <td>3.2490</td>\n",
       "    </tr>\n",
       "    <tr>\n",
       "      <th>1</th>\n",
       "      <td>366</td>\n",
       "      <td>269</td>\n",
       "      <td>106296</td>\n",
       "      <td>206613</td>\n",
       "      <td>carevue</td>\n",
       "      <td>MICU</td>\n",
       "      <td>MICU</td>\n",
       "      <td>52</td>\n",
       "      <td>52</td>\n",
       "      <td>2170-11-05 11:05:29</td>\n",
       "      <td>2170-11-08 17:46:57</td>\n",
       "      <td>3.2788</td>\n",
       "    </tr>\n",
       "    <tr>\n",
       "      <th>2</th>\n",
       "      <td>367</td>\n",
       "      <td>270</td>\n",
       "      <td>188028</td>\n",
       "      <td>220345</td>\n",
       "      <td>carevue</td>\n",
       "      <td>CCU</td>\n",
       "      <td>CCU</td>\n",
       "      <td>57</td>\n",
       "      <td>57</td>\n",
       "      <td>2128-06-24 15:05:20</td>\n",
       "      <td>2128-06-27 12:32:29</td>\n",
       "      <td>2.8939</td>\n",
       "    </tr>\n",
       "    <tr>\n",
       "      <th>3</th>\n",
       "      <td>368</td>\n",
       "      <td>271</td>\n",
       "      <td>173727</td>\n",
       "      <td>249196</td>\n",
       "      <td>carevue</td>\n",
       "      <td>MICU</td>\n",
       "      <td>SICU</td>\n",
       "      <td>52</td>\n",
       "      <td>23</td>\n",
       "      <td>2120-08-07 23:12:42</td>\n",
       "      <td>2120-08-10 00:39:04</td>\n",
       "      <td>2.0600</td>\n",
       "    </tr>\n",
       "    <tr>\n",
       "      <th>4</th>\n",
       "      <td>369</td>\n",
       "      <td>272</td>\n",
       "      <td>164716</td>\n",
       "      <td>210407</td>\n",
       "      <td>carevue</td>\n",
       "      <td>CCU</td>\n",
       "      <td>CCU</td>\n",
       "      <td>57</td>\n",
       "      <td>57</td>\n",
       "      <td>2186-12-25 21:08:04</td>\n",
       "      <td>2186-12-27 12:01:13</td>\n",
       "      <td>1.6202</td>\n",
       "    </tr>\n",
       "    <tr>\n",
       "      <th>...</th>\n",
       "      <td>...</td>\n",
       "      <td>...</td>\n",
       "      <td>...</td>\n",
       "      <td>...</td>\n",
       "      <td>...</td>\n",
       "      <td>...</td>\n",
       "      <td>...</td>\n",
       "      <td>...</td>\n",
       "      <td>...</td>\n",
       "      <td>...</td>\n",
       "      <td>...</td>\n",
       "      <td>...</td>\n",
       "    </tr>\n",
       "    <tr>\n",
       "      <th>61527</th>\n",
       "      <td>59806</td>\n",
       "      <td>94944</td>\n",
       "      <td>143774</td>\n",
       "      <td>201233</td>\n",
       "      <td>metavision</td>\n",
       "      <td>CSRU</td>\n",
       "      <td>CSRU</td>\n",
       "      <td>15</td>\n",
       "      <td>15</td>\n",
       "      <td>2104-04-15 10:18:16</td>\n",
       "      <td>2104-04-17 14:51:00</td>\n",
       "      <td>2.1894</td>\n",
       "    </tr>\n",
       "    <tr>\n",
       "      <th>61528</th>\n",
       "      <td>59807</td>\n",
       "      <td>94950</td>\n",
       "      <td>123750</td>\n",
       "      <td>283653</td>\n",
       "      <td>metavision</td>\n",
       "      <td>CCU</td>\n",
       "      <td>CCU</td>\n",
       "      <td>7</td>\n",
       "      <td>7</td>\n",
       "      <td>2155-12-08 05:33:16</td>\n",
       "      <td>2155-12-10 17:24:58</td>\n",
       "      <td>2.4942</td>\n",
       "    </tr>\n",
       "    <tr>\n",
       "      <th>61529</th>\n",
       "      <td>59808</td>\n",
       "      <td>94953</td>\n",
       "      <td>196881</td>\n",
       "      <td>241585</td>\n",
       "      <td>metavision</td>\n",
       "      <td>SICU</td>\n",
       "      <td>SICU</td>\n",
       "      <td>57</td>\n",
       "      <td>57</td>\n",
       "      <td>2160-03-03 16:09:11</td>\n",
       "      <td>2160-03-04 14:22:33</td>\n",
       "      <td>0.9259</td>\n",
       "    </tr>\n",
       "    <tr>\n",
       "      <th>61530</th>\n",
       "      <td>59809</td>\n",
       "      <td>94954</td>\n",
       "      <td>118475</td>\n",
       "      <td>202802</td>\n",
       "      <td>metavision</td>\n",
       "      <td>CSRU</td>\n",
       "      <td>CSRU</td>\n",
       "      <td>15</td>\n",
       "      <td>15</td>\n",
       "      <td>2183-03-25 09:53:10</td>\n",
       "      <td>2183-03-27 17:55:03</td>\n",
       "      <td>2.3346</td>\n",
       "    </tr>\n",
       "    <tr>\n",
       "      <th>61531</th>\n",
       "      <td>59810</td>\n",
       "      <td>94956</td>\n",
       "      <td>156386</td>\n",
       "      <td>275346</td>\n",
       "      <td>metavision</td>\n",
       "      <td>TSICU</td>\n",
       "      <td>TSICU</td>\n",
       "      <td>14</td>\n",
       "      <td>14</td>\n",
       "      <td>2157-05-19 02:54:54</td>\n",
       "      <td>2157-05-23 14:58:04</td>\n",
       "      <td>4.5022</td>\n",
       "    </tr>\n",
       "  </tbody>\n",
       "</table>\n",
       "<p>61532 rows × 12 columns</p>\n",
       "</div>"
      ],
      "text/plain": [
       "       ROW_ID  SUBJECT_ID  HADM_ID  ICUSTAY_ID    DBSOURCE FIRST_CAREUNIT  \\\n",
       "0         365         268   110404      280836     carevue           MICU   \n",
       "1         366         269   106296      206613     carevue           MICU   \n",
       "2         367         270   188028      220345     carevue            CCU   \n",
       "3         368         271   173727      249196     carevue           MICU   \n",
       "4         369         272   164716      210407     carevue            CCU   \n",
       "...       ...         ...      ...         ...         ...            ...   \n",
       "61527   59806       94944   143774      201233  metavision           CSRU   \n",
       "61528   59807       94950   123750      283653  metavision            CCU   \n",
       "61529   59808       94953   196881      241585  metavision           SICU   \n",
       "61530   59809       94954   118475      202802  metavision           CSRU   \n",
       "61531   59810       94956   156386      275346  metavision          TSICU   \n",
       "\n",
       "      LAST_CAREUNIT  FIRST_WARDID  LAST_WARDID               INTIME  \\\n",
       "0              MICU            52           52  2198-02-14 23:27:38   \n",
       "1              MICU            52           52  2170-11-05 11:05:29   \n",
       "2               CCU            57           57  2128-06-24 15:05:20   \n",
       "3              SICU            52           23  2120-08-07 23:12:42   \n",
       "4               CCU            57           57  2186-12-25 21:08:04   \n",
       "...             ...           ...          ...                  ...   \n",
       "61527          CSRU            15           15  2104-04-15 10:18:16   \n",
       "61528           CCU             7            7  2155-12-08 05:33:16   \n",
       "61529          SICU            57           57  2160-03-03 16:09:11   \n",
       "61530          CSRU            15           15  2183-03-25 09:53:10   \n",
       "61531         TSICU            14           14  2157-05-19 02:54:54   \n",
       "\n",
       "                   OUTTIME     LOS  \n",
       "0      2198-02-18 05:26:11  3.2490  \n",
       "1      2170-11-08 17:46:57  3.2788  \n",
       "2      2128-06-27 12:32:29  2.8939  \n",
       "3      2120-08-10 00:39:04  2.0600  \n",
       "4      2186-12-27 12:01:13  1.6202  \n",
       "...                    ...     ...  \n",
       "61527  2104-04-17 14:51:00  2.1894  \n",
       "61528  2155-12-10 17:24:58  2.4942  \n",
       "61529  2160-03-04 14:22:33  0.9259  \n",
       "61530  2183-03-27 17:55:03  2.3346  \n",
       "61531  2157-05-23 14:58:04  4.5022  \n",
       "\n",
       "[61532 rows x 12 columns]"
      ]
     },
     "execution_count": 3,
     "metadata": {},
     "output_type": "execute_result"
    }
   ],
   "source": [
    "icustays"
   ]
  },
  {
   "cell_type": "code",
   "execution_count": 4,
   "metadata": {},
   "outputs": [
    {
     "name": "stdout",
     "output_type": "stream",
     "text": [
      "<class 'pandas.core.frame.DataFrame'>\n",
      "RangeIndex: 61532 entries, 0 to 61531\n",
      "Data columns (total 12 columns):\n",
      " #   Column          Non-Null Count  Dtype  \n",
      "---  ------          --------------  -----  \n",
      " 0   ROW_ID          61532 non-null  int64  \n",
      " 1   SUBJECT_ID      61532 non-null  int64  \n",
      " 2   HADM_ID         61532 non-null  int64  \n",
      " 3   ICUSTAY_ID      61532 non-null  int64  \n",
      " 4   DBSOURCE        61532 non-null  object \n",
      " 5   FIRST_CAREUNIT  61532 non-null  object \n",
      " 6   LAST_CAREUNIT   61532 non-null  object \n",
      " 7   FIRST_WARDID    61532 non-null  int64  \n",
      " 8   LAST_WARDID     61532 non-null  int64  \n",
      " 9   INTIME          61532 non-null  object \n",
      " 10  OUTTIME         61522 non-null  object \n",
      " 11  LOS             61522 non-null  float64\n",
      "dtypes: float64(1), int64(6), object(5)\n",
      "memory usage: 5.6+ MB\n"
     ]
    }
   ],
   "source": [
    "icustays.info()"
   ]
  },
  {
   "cell_type": "code",
   "execution_count": 5,
   "metadata": {},
   "outputs": [
    {
     "data": {
      "text/plain": [
       "ROW_ID             0\n",
       "SUBJECT_ID         0\n",
       "HADM_ID            0\n",
       "ICUSTAY_ID         0\n",
       "DBSOURCE           0\n",
       "FIRST_CAREUNIT     0\n",
       "LAST_CAREUNIT      0\n",
       "FIRST_WARDID       0\n",
       "LAST_WARDID        0\n",
       "INTIME             0\n",
       "OUTTIME           10\n",
       "LOS               10\n",
       "dtype: int64"
      ]
     },
     "execution_count": 5,
     "metadata": {},
     "output_type": "execute_result"
    }
   ],
   "source": [
    "# to check null values count\n",
    "icustays.isnull().sum()"
   ]
  },
  {
   "cell_type": "code",
   "execution_count": 6,
   "metadata": {},
   "outputs": [
    {
     "data": {
      "text/plain": [
       "ROW_ID            0.000000\n",
       "SUBJECT_ID        0.000000\n",
       "HADM_ID           0.000000\n",
       "ICUSTAY_ID        0.000000\n",
       "DBSOURCE          0.000000\n",
       "FIRST_CAREUNIT    0.000000\n",
       "LAST_CAREUNIT     0.000000\n",
       "FIRST_WARDID      0.000000\n",
       "LAST_WARDID       0.000000\n",
       "INTIME            0.000000\n",
       "OUTTIME           0.016252\n",
       "LOS               0.016252\n",
       "dtype: float64"
      ]
     },
     "execution_count": 6,
     "metadata": {},
     "output_type": "execute_result"
    }
   ],
   "source": [
    "# to check null values percentage\n",
    "(icustays.isnull().sum()/(len(icustays)))*100"
   ]
  },
  {
   "cell_type": "markdown",
   "metadata": {},
   "source": [
    "Check null rows"
   ]
  },
  {
   "cell_type": "code",
   "execution_count": 7,
   "metadata": {},
   "outputs": [
    {
     "data": {
      "text/html": [
       "<div>\n",
       "<style scoped>\n",
       "    .dataframe tbody tr th:only-of-type {\n",
       "        vertical-align: middle;\n",
       "    }\n",
       "\n",
       "    .dataframe tbody tr th {\n",
       "        vertical-align: top;\n",
       "    }\n",
       "\n",
       "    .dataframe thead th {\n",
       "        text-align: right;\n",
       "    }\n",
       "</style>\n",
       "<table border=\"1\" class=\"dataframe\">\n",
       "  <thead>\n",
       "    <tr style=\"text-align: right;\">\n",
       "      <th></th>\n",
       "      <th>ROW_ID</th>\n",
       "      <th>SUBJECT_ID</th>\n",
       "      <th>HADM_ID</th>\n",
       "      <th>ICUSTAY_ID</th>\n",
       "      <th>DBSOURCE</th>\n",
       "      <th>FIRST_CAREUNIT</th>\n",
       "      <th>LAST_CAREUNIT</th>\n",
       "      <th>FIRST_WARDID</th>\n",
       "      <th>LAST_WARDID</th>\n",
       "      <th>INTIME</th>\n",
       "      <th>OUTTIME</th>\n",
       "      <th>LOS</th>\n",
       "    </tr>\n",
       "  </thead>\n",
       "  <tbody>\n",
       "    <tr>\n",
       "      <th>1033</th>\n",
       "      <td>650</td>\n",
       "      <td>499</td>\n",
       "      <td>138066</td>\n",
       "      <td>265303</td>\n",
       "      <td>carevue</td>\n",
       "      <td>MICU</td>\n",
       "      <td>MICU</td>\n",
       "      <td>15</td>\n",
       "      <td>15</td>\n",
       "      <td>2147-01-18 19:11:00</td>\n",
       "      <td>NaN</td>\n",
       "      <td>NaN</td>\n",
       "    </tr>\n",
       "    <tr>\n",
       "      <th>6451</th>\n",
       "      <td>6628</td>\n",
       "      <td>5216</td>\n",
       "      <td>130232</td>\n",
       "      <td>262702</td>\n",
       "      <td>carevue</td>\n",
       "      <td>NICU</td>\n",
       "      <td>NICU</td>\n",
       "      <td>26</td>\n",
       "      <td>26</td>\n",
       "      <td>2114-02-26 05:41:00</td>\n",
       "      <td>NaN</td>\n",
       "      <td>NaN</td>\n",
       "    </tr>\n",
       "    <tr>\n",
       "      <th>10165</th>\n",
       "      <td>11108</td>\n",
       "      <td>8733</td>\n",
       "      <td>171006</td>\n",
       "      <td>296619</td>\n",
       "      <td>carevue</td>\n",
       "      <td>NICU</td>\n",
       "      <td>NICU</td>\n",
       "      <td>26</td>\n",
       "      <td>26</td>\n",
       "      <td>2190-02-03 07:37:00</td>\n",
       "      <td>NaN</td>\n",
       "      <td>NaN</td>\n",
       "    </tr>\n",
       "    <tr>\n",
       "      <th>10507</th>\n",
       "      <td>8216</td>\n",
       "      <td>6462</td>\n",
       "      <td>168585</td>\n",
       "      <td>270511</td>\n",
       "      <td>carevue</td>\n",
       "      <td>NICU</td>\n",
       "      <td>NICU</td>\n",
       "      <td>26</td>\n",
       "      <td>26</td>\n",
       "      <td>2135-04-23 10:06:00</td>\n",
       "      <td>NaN</td>\n",
       "      <td>NaN</td>\n",
       "    </tr>\n",
       "    <tr>\n",
       "      <th>13080</th>\n",
       "      <td>12923</td>\n",
       "      <td>10168</td>\n",
       "      <td>184129</td>\n",
       "      <td>292281</td>\n",
       "      <td>carevue</td>\n",
       "      <td>MICU</td>\n",
       "      <td>MICU</td>\n",
       "      <td>52</td>\n",
       "      <td>52</td>\n",
       "      <td>2111-03-06 20:52:00</td>\n",
       "      <td>NaN</td>\n",
       "      <td>NaN</td>\n",
       "    </tr>\n",
       "    <tr>\n",
       "      <th>15156</th>\n",
       "      <td>13060</td>\n",
       "      <td>10273</td>\n",
       "      <td>127370</td>\n",
       "      <td>269344</td>\n",
       "      <td>carevue</td>\n",
       "      <td>NICU</td>\n",
       "      <td>NICU</td>\n",
       "      <td>26</td>\n",
       "      <td>26</td>\n",
       "      <td>2153-02-16 21:57:00</td>\n",
       "      <td>NaN</td>\n",
       "      <td>NaN</td>\n",
       "    </tr>\n",
       "    <tr>\n",
       "      <th>17759</th>\n",
       "      <td>18665</td>\n",
       "      <td>14712</td>\n",
       "      <td>188201</td>\n",
       "      <td>259704</td>\n",
       "      <td>carevue</td>\n",
       "      <td>NICU</td>\n",
       "      <td>NICU</td>\n",
       "      <td>26</td>\n",
       "      <td>26</td>\n",
       "      <td>2110-01-29 23:41:00</td>\n",
       "      <td>NaN</td>\n",
       "      <td>NaN</td>\n",
       "    </tr>\n",
       "    <tr>\n",
       "      <th>18442</th>\n",
       "      <td>12871</td>\n",
       "      <td>10128</td>\n",
       "      <td>148324</td>\n",
       "      <td>246075</td>\n",
       "      <td>carevue</td>\n",
       "      <td>CSRU</td>\n",
       "      <td>CSRU</td>\n",
       "      <td>33</td>\n",
       "      <td>33</td>\n",
       "      <td>2117-03-29 18:58:00</td>\n",
       "      <td>NaN</td>\n",
       "      <td>NaN</td>\n",
       "    </tr>\n",
       "    <tr>\n",
       "      <th>27840</th>\n",
       "      <td>25343</td>\n",
       "      <td>19967</td>\n",
       "      <td>146232</td>\n",
       "      <td>234207</td>\n",
       "      <td>carevue</td>\n",
       "      <td>NICU</td>\n",
       "      <td>NICU</td>\n",
       "      <td>26</td>\n",
       "      <td>26</td>\n",
       "      <td>2168-03-02 23:40:00</td>\n",
       "      <td>NaN</td>\n",
       "      <td>NaN</td>\n",
       "    </tr>\n",
       "    <tr>\n",
       "      <th>29117</th>\n",
       "      <td>26451</td>\n",
       "      <td>20861</td>\n",
       "      <td>127498</td>\n",
       "      <td>206053</td>\n",
       "      <td>carevue</td>\n",
       "      <td>NICU</td>\n",
       "      <td>NICU</td>\n",
       "      <td>26</td>\n",
       "      <td>26</td>\n",
       "      <td>2136-02-20 17:31:00</td>\n",
       "      <td>NaN</td>\n",
       "      <td>NaN</td>\n",
       "    </tr>\n",
       "  </tbody>\n",
       "</table>\n",
       "</div>"
      ],
      "text/plain": [
       "       ROW_ID  SUBJECT_ID  HADM_ID  ICUSTAY_ID DBSOURCE FIRST_CAREUNIT  \\\n",
       "1033      650         499   138066      265303  carevue           MICU   \n",
       "6451     6628        5216   130232      262702  carevue           NICU   \n",
       "10165   11108        8733   171006      296619  carevue           NICU   \n",
       "10507    8216        6462   168585      270511  carevue           NICU   \n",
       "13080   12923       10168   184129      292281  carevue           MICU   \n",
       "15156   13060       10273   127370      269344  carevue           NICU   \n",
       "17759   18665       14712   188201      259704  carevue           NICU   \n",
       "18442   12871       10128   148324      246075  carevue           CSRU   \n",
       "27840   25343       19967   146232      234207  carevue           NICU   \n",
       "29117   26451       20861   127498      206053  carevue           NICU   \n",
       "\n",
       "      LAST_CAREUNIT  FIRST_WARDID  LAST_WARDID               INTIME OUTTIME  \\\n",
       "1033           MICU            15           15  2147-01-18 19:11:00     NaN   \n",
       "6451           NICU            26           26  2114-02-26 05:41:00     NaN   \n",
       "10165          NICU            26           26  2190-02-03 07:37:00     NaN   \n",
       "10507          NICU            26           26  2135-04-23 10:06:00     NaN   \n",
       "13080          MICU            52           52  2111-03-06 20:52:00     NaN   \n",
       "15156          NICU            26           26  2153-02-16 21:57:00     NaN   \n",
       "17759          NICU            26           26  2110-01-29 23:41:00     NaN   \n",
       "18442          CSRU            33           33  2117-03-29 18:58:00     NaN   \n",
       "27840          NICU            26           26  2168-03-02 23:40:00     NaN   \n",
       "29117          NICU            26           26  2136-02-20 17:31:00     NaN   \n",
       "\n",
       "       LOS  \n",
       "1033   NaN  \n",
       "6451   NaN  \n",
       "10165  NaN  \n",
       "10507  NaN  \n",
       "13080  NaN  \n",
       "15156  NaN  \n",
       "17759  NaN  \n",
       "18442  NaN  \n",
       "27840  NaN  \n",
       "29117  NaN  "
      ]
     },
     "execution_count": 7,
     "metadata": {},
     "output_type": "execute_result"
    }
   ],
   "source": [
    "null_rows = icustays[icustays['OUTTIME'].isnull()]\n",
    "null_rows\n",
    "\n",
    "# to further investigate patients that doesn't have 'OUTTIME'"
   ]
  },
  {
   "cell_type": "markdown",
   "metadata": {},
   "source": [
    "Check unique values"
   ]
  },
  {
   "cell_type": "code",
   "execution_count": 8,
   "metadata": {},
   "outputs": [
    {
     "data": {
      "text/plain": [
       "ROW_ID            61532\n",
       "SUBJECT_ID        46476\n",
       "HADM_ID           57786\n",
       "ICUSTAY_ID        61532\n",
       "DBSOURCE              3\n",
       "FIRST_CAREUNIT        6\n",
       "LAST_CAREUNIT         6\n",
       "FIRST_WARDID         16\n",
       "LAST_WARDID          17\n",
       "INTIME            61531\n",
       "OUTTIME           61518\n",
       "LOS               40175\n",
       "dtype: int64"
      ]
     },
     "execution_count": 8,
     "metadata": {},
     "output_type": "execute_result"
    }
   ],
   "source": [
    "icustays.nunique()"
   ]
  },
  {
   "cell_type": "code",
   "execution_count": 9,
   "metadata": {},
   "outputs": [
    {
     "name": "stdout",
     "output_type": "stream",
     "text": [
      "['carevue' 'metavision' 'both']\n",
      "3\n"
     ]
    }
   ],
   "source": [
    "# to check the unique values of each columns:\n",
    "    # DBSOURCE\n",
    "print(icustays['DBSOURCE'].unique())\n",
    "print(icustays['DBSOURCE'].nunique())"
   ]
  },
  {
   "cell_type": "code",
   "execution_count": 10,
   "metadata": {},
   "outputs": [
    {
     "name": "stdout",
     "output_type": "stream",
     "text": [
      "['MICU' 'CCU' 'NICU' 'TSICU' 'SICU' 'CSRU']\n",
      "6\n"
     ]
    }
   ],
   "source": [
    "# to check the unique values of each columns:\n",
    "    # FIRST_CAREUNIT\n",
    "print(icustays['FIRST_CAREUNIT'].unique())\n",
    "print(icustays['FIRST_CAREUNIT'].nunique())"
   ]
  },
  {
   "cell_type": "code",
   "execution_count": 11,
   "metadata": {},
   "outputs": [
    {
     "name": "stdout",
     "output_type": "stream",
     "text": [
      "['MICU' 'CCU' 'SICU' 'NICU' 'TSICU' 'CSRU']\n",
      "6\n"
     ]
    }
   ],
   "source": [
    "# to check the unique values of each columns:\n",
    "    # LAST_CAREUNIT\n",
    "print(icustays['LAST_CAREUNIT'].unique())\n",
    "print(icustays['LAST_CAREUNIT'].nunique())"
   ]
  },
  {
   "cell_type": "code",
   "execution_count": 12,
   "metadata": {},
   "outputs": [
    {
     "name": "stdout",
     "output_type": "stream",
     "text": [
      "[52 57 12  7 56 15 14 23 33 50 16 22 26 37 38 47]\n",
      "16\n"
     ]
    }
   ],
   "source": [
    "# to check the unique values of each columns:\n",
    "    # FIRST_WARDID\n",
    "print(icustays['FIRST_WARDID'].unique())\n",
    "print(icustays['FIRST_WARDID'].nunique())"
   ]
  },
  {
   "cell_type": "code",
   "execution_count": 13,
   "metadata": {},
   "outputs": [
    {
     "name": "stdout",
     "output_type": "stream",
     "text": [
      "[52 57 23 12  7 56 15 14 33 50 16 22 26 37 38 42 47]\n",
      "17\n"
     ]
    }
   ],
   "source": [
    "# to check the unique values of each columns:\n",
    "    # LAST_WARDID\n",
    "print(icustays['LAST_WARDID'].unique())\n",
    "print(icustays['LAST_WARDID'].nunique())"
   ]
  },
  {
   "cell_type": "markdown",
   "metadata": {},
   "source": [
    "Update date/time columns into 'datetime' format/type"
   ]
  },
  {
   "cell_type": "code",
   "execution_count": 14,
   "metadata": {},
   "outputs": [],
   "source": [
    "# to update column data type to datetime\n",
    "to_datetime = ['INTIME', 'OUTTIME']\n",
    "\n",
    "for col in to_datetime:\n",
    "    icustays[col] = pd.to_datetime(icustays[col])"
   ]
  },
  {
   "cell_type": "code",
   "execution_count": 15,
   "metadata": {},
   "outputs": [],
   "source": [
    "# to update columns to string\n",
    "to_string = ['ROW_ID', 'SUBJECT_ID', 'HADM_ID',\n",
    "             'ICUSTAY_ID', 'FIRST_WARDID', 'LAST_WARDID']\n",
    "\n",
    "for col in to_string:\n",
    "    icustays[col]  = icustays[col].astype(\"str\")"
   ]
  },
  {
   "cell_type": "markdown",
   "metadata": {},
   "source": [
    "Plotting numeric variable/s"
   ]
  },
  {
   "cell_type": "code",
   "execution_count": 16,
   "metadata": {},
   "outputs": [
    {
     "name": "stdout",
     "output_type": "stream",
     "text": [
      "LOS\n"
     ]
    },
    {
     "data": {
      "image/png": "[encoded data removed]",
      "text/plain": [
       "<Figure size 1500x400 with 2 Axes>"
      ]
     },
     "metadata": {},
     "output_type": "display_data"
    }
   ],
   "source": [
    "num_cols = ['LOS']\n",
    "\n",
    "for col in num_cols:\n",
    "    print(col)\n",
    "    plt.figure(figsize = (15, 4))\n",
    "    plt.subplot(1, 2, 1)\n",
    "    icustays[col].hist(grid=False)\n",
    "    plt.ylabel('count')\n",
    "    plt.subplot(1, 2, 2)\n",
    "    sns.boxplot(x=icustays[col])\n",
    "    plt.show()"
   ]
  },
  {
   "cell_type": "markdown",
   "metadata": {},
   "source": [
    "Plotting categorical variables"
   ]
  },
  {
   "cell_type": "code",
   "execution_count": 17,
   "metadata": {},
   "outputs": [
    {
     "data": {
      "image/png": "[encoded data removed]",
      "text/plain": [
       "<Figure size 1500x400 with 1 Axes>"
      ]
     },
     "metadata": {},
     "output_type": "display_data"
    },
    {
     "data": {
      "image/png": "[encoded data removed]",
      "text/plain": [
       "<Figure size 1500x400 with 1 Axes>"
      ]
     },
     "metadata": {},
     "output_type": "display_data"
    },
    {
     "data": {
      "image/png": "[encoded data removed]",
      "text/plain": [
       "<Figure size 1500x400 with 1 Axes>"
      ]
     },
     "metadata": {},
     "output_type": "display_data"
    },
    {
     "data": {
      "image/png": "[encoded data removed]",
      "text/plain": [
       "<Figure size 1500x400 with 1 Axes>"
      ]
     },
     "metadata": {},
     "output_type": "display_data"
    },
    {
     "data": {
      "image/png": "[encoded data removed]",
      "text/plain": [
       "<Figure size 1500x400 with 1 Axes>"
      ]
     },
     "metadata": {},
     "output_type": "display_data"
    }
   ],
   "source": [
    "cat_cols = ['DBSOURCE', 'FIRST_CAREUNIT', 'LAST_CAREUNIT', 'FIRST_WARDID', 'LAST_WARDID']\n",
    "\n",
    "for col in cat_cols:\n",
    "    plt.figure(figsize=(15, 4))\n",
    "    sns.countplot(x=col, data=icustays, order=icustays[col].value_counts().index)\n",
    "    plt.ylabel('Count')\n",
    "    plt.title(f'Count Plot for {col}')\n",
    "    plt.xticks(rotation=90)\n",
    "    plt.show()"
   ]
  },
  {
   "cell_type": "markdown",
   "metadata": {},
   "source": [
    "Plotting datetime variables"
   ]
  },
  {
   "cell_type": "code",
   "execution_count": 18,
   "metadata": {},
   "outputs": [
    {
     "data": {
      "text/plain": [
       "ROW_ID            61532\n",
       "SUBJECT_ID        46476\n",
       "HADM_ID           57786\n",
       "ICUSTAY_ID        61532\n",
       "DBSOURCE              3\n",
       "FIRST_CAREUNIT        6\n",
       "LAST_CAREUNIT         6\n",
       "FIRST_WARDID         16\n",
       "LAST_WARDID          17\n",
       "INTIME            61531\n",
       "OUTTIME           61518\n",
       "LOS               40175\n",
       "dtype: int64"
      ]
     },
     "execution_count": 18,
     "metadata": {},
     "output_type": "execute_result"
    }
   ],
   "source": [
    "icustays.nunique()"
   ]
  },
  {
   "cell_type": "markdown",
   "metadata": {},
   "source": [
    "Export clean data"
   ]
  },
  {
   "cell_type": "code",
   "execution_count": 27,
   "metadata": {},
   "outputs": [],
   "source": [
    "# to export clean data file\n",
    "csv_path = 'icustays_clean.csv'\n",
    "icustays.to_csv(csv_path,\n",
    "                  index = False)"
   ]
  },
  {
   "cell_type": "code",
   "execution_count": null,
   "metadata": {},
   "outputs": [],
   "source": []
  }
 ],
 "metadata": {
  "kernelspec": {
   "display_name": "base",
   "language": "python",
   "name": "python3"
  },
  "language_info": {
   "codemirror_mode": {
    "name": "ipython",
    "version": 3
   },
   "file_extension": ".py",
   "mimetype": "text/x-python",
   "name": "python",
   "nbconvert_exporter": "python",
   "pygments_lexer": "ipython3",
   "version": "3.11.5"
  }
 },
 "nbformat": 4,
 "nbformat_minor": 2
}
